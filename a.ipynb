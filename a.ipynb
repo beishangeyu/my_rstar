{
 "cells": [
  {
   "cell_type": "code",
   "execution_count": null,
   "metadata": {},
   "outputs": [
    {
     "name": "stdout",
     "output_type": "stream",
     "text": [
      "['/mnt/mingd3/miniconda3/envs/adv/lib/python310.zip', '/mnt/mingd3/miniconda3/envs/adv/lib/python3.10', '/mnt/mingd3/miniconda3/envs/adv/lib/python3.10/lib-dynload', '', '/mnt/mingd3/miniconda3/envs/adv/lib/python3.10/site-packages', '/mnt/mingd3/adv/adv_attack/human-eval']\n"
     ]
    }
   ],
   "source": [
    "import sys\n",
    "\n",
    "print(sys.path)"
   ]
  },
  {
   "cell_type": "code",
   "execution_count": null,
   "metadata": {},
   "outputs": [],
   "source": []
  }
 ],
 "metadata": {
  "kernelspec": {
   "display_name": "adv",
   "language": "python",
   "name": "python3"
  },
  "language_info": {
   "codemirror_mode": {
    "name": "ipython",
    "version": 3
   },
   "file_extension": ".py",
   "mimetype": "text/x-python",
   "name": "python",
   "nbconvert_exporter": "python",
   "pygments_lexer": "ipython3",
   "version": "3.10.14"
  }
 },
 "nbformat": 4,
 "nbformat_minor": 2
}
